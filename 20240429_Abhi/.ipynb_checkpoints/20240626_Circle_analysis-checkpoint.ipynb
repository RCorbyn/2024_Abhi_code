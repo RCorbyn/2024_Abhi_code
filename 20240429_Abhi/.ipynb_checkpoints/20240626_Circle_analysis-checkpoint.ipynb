{
 "cells": [
  {
   "cell_type": "markdown",
   "id": "02cd726b-ab6d-4fc6-82a3-b8244a883166",
   "metadata": {},
   "source": [
    "# Macropinosomes Analysis\n",
    "\n",
    "This is a jupyter notebook that is used to analyse the macropinosomes that have been images within cells.  \n",
    "The analysis runs in the following order:   \n",
    "1. Analyse all z stacks within an image  \n",
    "2. Analyse all time points  \n",
    "3. Analyse all image regions in the .czi file\n",
    "\n"
   ]
  },
  {
   "cell_type": "markdown",
   "id": "716a07d8-b002-4e63-bb74-06fcfc4f27b1",
   "metadata": {},
   "source": [
    "---------\n",
    "### Import dependancies"
   ]
  },
  {
   "cell_type": "code",
   "execution_count": 2,
   "id": "0a04dbee-e19c-4708-b663-d1a6112380e6",
   "metadata": {
    "tags": []
   },
   "outputs": [],
   "source": [
    "import czifile as czi \n",
    "import os\n",
    "\n",
    "from cellpose import core, models, io, metrics\n",
    "\n",
    "import napari\n",
    "import numpy as np\n",
    "\n",
    "import tkinter as tk\n",
    "from tkinter import filedialog\n",
    "\n",
    "import skimage\n",
    "import scipy as sci\n",
    "import pandas as pd"
   ]
  },
  {
   "cell_type": "markdown",
   "id": "c76485d1-c2f7-43c5-a48c-bb3c7d873066",
   "metadata": {},
   "source": [
    "------\n",
    "### Find cells in z slice. "
   ]
  },
  {
   "cell_type": "code",
   "execution_count": 3,
   "id": "13a9ce3c-a491-4d93-b059-b4c03781c65c",
   "metadata": {
    "tags": []
   },
   "outputs": [],
   "source": [
    "def get_labels_for_z_pos(im_dat):\n",
    "    '''This method takes in 1 z-slice from the image at a time, \n",
    "    that has already been selected for analysis, and then uses the following \n",
    "    steps to locate the cells within the image.\n",
    "    1. Apply a Gaussian blur to the image, sigma = 2.\n",
    "    2. Perform thresholding with the Otzu filter. \n",
    "    3. Use the \"fill holes\" function in python to create complete cell masks. \n",
    "    4. Convert the binary image into labels. '''\n",
    "    \n",
    "    # Apply a gaussian filter to image. \n",
    "    blurred_im = skimage.filters.gaussian(im_dat, sigma =2)*100\n",
    "    # Use the Otzu algorithm for thresholding \n",
    "    threshold = skimage.filters.threshold_otsu(blurred_im)\n",
    "    \n",
    "    # binarise image \n",
    "    thresh_im = np.array(blurred_im)\n",
    "    # Perform Thresholding\n",
    "    thresh_im[thresh_im<threshold] = 1\n",
    "    thresh_im[thresh_im>=threshold] = 0\n",
    "    \n",
    "    # Fill holes in bonary mask. \n",
    "    thresh_im = sci.ndimage.binary_fill_holes(thresh_im)\n",
    "    # Convert binary mask to labels. \n",
    "    labels = skimage.measure.label(thresh_im)\n",
    "\n",
    "    return(labels)"
   ]
  },
  {
   "cell_type": "markdown",
   "id": "e6e5a3aa-7e08-4d28-bab3-aa19a8756953",
   "metadata": {},
   "source": [
    "-----\n",
    "### Segment cells with Cellpose"
   ]
  },
  {
   "cell_type": "code",
   "execution_count": 4,
   "id": "21da3d13-2db2-4f4b-8c12-acb7c908e842",
   "metadata": {},
   "outputs": [],
   "source": [
    "def segment_the_cells_cellpose(cropped_im): \n",
    "    '''This method takes in 1 z-slice from the image at a time, \n",
    "    that has already been selected for analysis, and then uses the following \n",
    "    steps to locate the cells within the image.\n",
    "    1. Segment the cells using cellpose model.'''\n",
    "    \n",
    "    # Initalise\n",
    "    im = cropped_im\n",
    "    cells_cwd = os.getcwd()\n",
    "    \n",
    "    model_loc = cells_cwd + '/Cellpose/Models/2024_05_07_14_03_55__Abhi_cells' \n",
    "    \n",
    "    # Load the cellpose model.\n",
    "    model = models.CellposeModel(gpu=True, model_type=model_loc)\n",
    "    \n",
    "    # Cellpose segmentation of the filtered data. \n",
    "    masks, flows, styles = model.eval(im, channels=[0, 0], diameter = None)\n",
    "    \n",
    "    return(masks)"
   ]
  },
  {
   "cell_type": "markdown",
   "id": "1dfb4882-28f0-425c-b2f7-5fd262cec940",
   "metadata": {},
   "source": [
    "--------\n",
    "### Work out which frames to look at"
   ]
  },
  {
   "cell_type": "code",
   "execution_count": 5,
   "id": "aae3f272-e7d3-4544-8877-afd4625a0c33",
   "metadata": {
    "tags": []
   },
   "outputs": [],
   "source": [
    "def Get_Frames(im_data, t):\n",
    "    '''Find the frames that have something worth analysing in. \n",
    "    So far this is done byb a very simple filter of \"intensity above 8000 counts.'''\n",
    "\n",
    "    # Initalise. \n",
    "    frames_to_analyse = []\n",
    "    all_labels = []\n",
    "\n",
    "    # Loop around the image z positions.\n",
    "    for z in range(im_data.shape[0]):\n",
    "        # If mean intensity in image reaches the threshold.\n",
    "        if np.mean(im_data[z, ...]) > 8000: \n",
    "            # Extract the single frame. \n",
    "            single_frame = np.array(im_data[t, z, ...])\n",
    "            # Append the frame to a list of frames. \n",
    "            frames_to_analyse.append(z)\n",
    "\n",
    "    return(np.array(frames_to_analyse))\n"
   ]
  },
  {
   "cell_type": "markdown",
   "id": "dee4ac1d-d229-46b1-9099-ab668ee5761b",
   "metadata": {},
   "source": [
    "------\n",
    "### Filter cell masks by size. \n",
    "Keep the larger cell objects. "
   ]
  },
  {
   "cell_type": "code",
   "execution_count": 6,
   "id": "7def4182-f01a-4557-8a07-69df2eef1fb4",
   "metadata": {
    "tags": []
   },
   "outputs": [],
   "source": [
    "def filter_cell_labels(labs):\n",
    "    '''Use an area filter to remove cell masks that are too small.'''\n",
    "    \n",
    "    # Define the properties we want to look at. \n",
    "    props = {'Label', 'Area'}\n",
    "    # use region_props_table to discover the cell area. \n",
    "    label_props = pd.DataFrame(skimage.measure.regionprops_table(labs, properties= props))\n",
    "\n",
    "    # Create an arbitrary cut-off for crap. \n",
    "    cutoff = 2000\n",
    "\n",
    "    # initalise. \n",
    "    new_labels = np.zeros([labs.shape[0], labs.shape[1]], dtype = int)\n",
    "    \n",
    "    counter = 1\n",
    "    # For all segemented cells. \n",
    "    for i in range( label_props.shape[0]):\n",
    "        mask_coords = np.where(labs == label_props['Label'].iloc[i])\n",
    "\n",
    "        if np.min(mask_coords[0]) == 0 or np.max(mask_coords[0]) == labs.shape[0]-1: \n",
    "            continue\n",
    "        elif np.min(mask_coords[1]) == 0 or np.max(mask_coords[1]) == labs.shape[1]-1:\n",
    "            continue \n",
    "\n",
    "        else: \n",
    "            \n",
    "            # If the cell is greater than the cutoff. \n",
    "            if len(mask_coords[0]) > cutoff: \n",
    "                # Save the cell mask, also rename cell masks. \n",
    "                new_labels[mask_coords[0], mask_coords[1]] = int(counter)\n",
    "                \n",
    "                counter = counter + 1\n",
    "            \n",
    "    return(new_labels)"
   ]
  },
  {
   "cell_type": "markdown",
   "id": "3b1a16af-5dd5-496a-9ad6-25bb15d42843",
   "metadata": {},
   "source": [
    "--- \n",
    "### Use cellpose to find circles."
   ]
  },
  {
   "cell_type": "code",
   "execution_count": 7,
   "id": "35a4e1aa-f04b-4919-a291-279aa1679732",
   "metadata": {},
   "outputs": [],
   "source": [
    "def segment_the_circles_cellpose(cropped_im, cell_labels): \n",
    "    '''This method takes in 1 z-slice from the image at a time, \n",
    "    that has already been selected for analysis, and then uses the following \n",
    "    steps to locate the cells within the image.\n",
    "    1. Segment the cells using cellpose model.'''\n",
    "    \n",
    "    # Initalise\n",
    "    im = cropped_im\n",
    "    circ_cwd = os.getcwd()\n",
    "    circ_model_loc = circ_cwd + '/Cellpose/Models/2024_06_05_14_36_50__Abhi_cells_circs'\n",
    "    \n",
    "    # Load the cellpose model.\n",
    "    model = models.CellposeModel(gpu=True, model_type=circ_model_loc)\n",
    "    \n",
    "    cells_binary = np.array(cell_labels, dtype = int)\n",
    "    \n",
    "    # make a binary mask of cells \n",
    "    cells_binary[cells_binary > 0] = 1\n",
    "    cells_binary[cells_binary < 0] = 0\n",
    "\n",
    "    # Cellpose segmentation of the filtered data. \n",
    "    masks, flows, styles = model.eval(im, channels=[0, 0], diameter = None)\n",
    "    \n",
    "    masks = masks * cells_binary\n",
    "    \n",
    "    return(masks)\n",
    "    "
   ]
  },
  {
   "cell_type": "markdown",
   "id": "03ece326-1255-4619-9946-5c797fcc3013",
   "metadata": {},
   "source": [
    "---- \n",
    "### Remove overlapping masks, keeping largest"
   ]
  },
  {
   "cell_type": "code",
   "execution_count": 8,
   "id": "c4e79f61-ac4f-4d33-8e73-7bd0101027b7",
   "metadata": {},
   "outputs": [],
   "source": [
    "def analyse_masks_and_shape(circle_masks, intensity_im):\n",
    "    '''For each of the frames in the masks store variable, this method \n",
    "    cycles through all of the circle masks generated by cellpose and \n",
    "    calculates the central position and area of the mask. If the mask \n",
    "    overlaps with a mask that has already been saved, the area of the \n",
    "    two spots are compared, with the larger of the spots saved into the \n",
    "    dataframe. In addition, the mask store variabale is updated to only include \n",
    "    those masks that are included in the analysis dataframe. '''\n",
    "\n",
    "    # Initalise\n",
    "    props = {'label', 'Centroid', 'Area', 'intensity_max', 'intensity_mean'}\n",
    "    circle_dataframe = pd.DataFrame()\n",
    "    # Copy the masks variable to preserve the original. \n",
    "    analysis_masks = np.array(circle_masks, dtype = int)\n",
    "\n",
    "    for j in range( circle_masks.shape[0] ):\n",
    "        # get the region-props tabel for the image. \n",
    "        circ_props = pd.DataFrame( skimage.measure.regionprops_table(circle_masks[j, ...], \n",
    "                                                            intensity_image = intensity_im[j, ...], \n",
    "                                                                     properties = props) )\n",
    "        circ_props['Frame'] = j\n",
    "        # Get the headers for the dataframe. \n",
    "        heads = circ_props.columns.values\n",
    "\n",
    "        # If the storage dataframe is empty. \n",
    "        if len(circle_dataframe) == 0: \n",
    "            # Add first values to the dataframe. \n",
    "            circle_dataframe = pd.concat([circle_dataframe, circ_props])\n",
    "        # If there are values in the dataframe. \n",
    "        else: \n",
    "            for i in range(circ_props.shape[0]):\n",
    "                # Find the circles that overlap with one another though different z frames. \n",
    "                similar_circle_x = np.where(( circle_dataframe['Centroid-0'] <= circ_props['Centroid-0'].iloc[i] + 5) & \n",
    "                                           ( circle_dataframe['Centroid-0'] >= circ_props['Centroid-0'].iloc[i] - 5 ) &\n",
    "                                           ( circle_dataframe['Centroid-1'] <= circ_props['Centroid-1'].iloc[i] + 5 ) & \n",
    "                                           ( circle_dataframe['Centroid-1'] >= circ_props['Centroid-1'].iloc[i] - 5 ))[0] \n",
    "                \n",
    "                dictionary = {}\n",
    "                for counter in range( len(heads) ):\n",
    "                    # Create a dictionary for the new values.      \n",
    "                    dictionary[heads[counter]] = [circ_props[heads[counter]].iloc[i]]\n",
    "\n",
    "                # If there is no overlap. \n",
    "                if len(similar_circle_x) == 0:\n",
    "                    # Add values to dataframe. \n",
    "                    circle_dataframe = pd.concat([circle_dataframe, pd.DataFrame(dictionary)], ignore_index = True, axis = 0)\n",
    "\n",
    "                # If there is overlap. \n",
    "                else: \n",
    "                    # If the area of the new circle is larger than the previous. \n",
    "                    if circ_props['intensity_max'].iloc[i] > circle_dataframe['intensity_max'].iloc[similar_circle_x[0]]:\n",
    "                        # Replace values in the dataframe. \n",
    "                        frame = circle_dataframe['Frame'].iloc[similar_circle_x[0]]\n",
    "                        mask_id = circle_dataframe['label'].iloc[similar_circle_x[0]]\n",
    "                        # Update the dataframe. \n",
    "                        circle_dataframe.iloc[similar_circle_x[0]] = pd.DataFrame(dictionary)\n",
    "                        # Update the masks to only include the ones used for \n",
    "                        # analysis. \n",
    "                        analysis_masks[frame, ...][analysis_masks[frame, ...] == mask_id] = 0\n",
    "\n",
    "                    else: \n",
    "                        # Replace values in the dataframe. \n",
    "                        frame = circle_dataframe['Frame'].iloc[similar_circle_x[0]]\n",
    "                        mask_id = circle_dataframe['label'].iloc[similar_circle_x[0]]\n",
    "                        # Update the masks to only include the ones used for \n",
    "                        # analysis. \n",
    "                        analysis_masks[frame, ...][analysis_masks[frame, ...] == mask_id] = 0\n",
    "\n",
    "    return(circle_dataframe, analysis_masks)"
   ]
  },
  {
   "cell_type": "markdown",
   "id": "924cc0e9-250a-4bde-ba0a-986b74d0538e",
   "metadata": {},
   "source": [
    "--------- \n",
    "### Rename the cell masks"
   ]
  },
  {
   "cell_type": "code",
   "execution_count": 9,
   "id": "c96c6d5c-c3fc-4c2f-8f27-2fcf0ad58c80",
   "metadata": {
    "scrolled": true
   },
   "outputs": [],
   "source": [
    "def rename_cell_masks(cell_masks, frames_of_interest): \n",
    "    '''To aid in the analysis, this method renames the cells \n",
    "    that appear across the different time points to have the same \n",
    "    label value across all time points. '''\n",
    "\n",
    "    # Initalise\n",
    "    props = {'label', 'centroid'}\n",
    "    cell_mask_labels = pd.DataFrame()\n",
    "    cell_masks_var = np.array(cell_masks)\n",
    "    zero_array = np.zeros(cell_masks.shape)\n",
    "\n",
    "    # For all cell masks. \n",
    "    for i in range( cell_masks_var.shape[0] ):\n",
    "        if len(np.where(frames_of_interest == i)[0]) > 0:\n",
    "            # Find the central point of all the cell masks. \n",
    "            cell_props = pd.DataFrame(\n",
    "                         skimage.measure.regionprops_table(\n",
    "                         cell_masks_var[i, ...],            \n",
    "                         properties = props ) ) \n",
    "          \n",
    "            # Populate the empty cell mask label variable\n",
    "            if len(cell_mask_labels) == 0: \n",
    "                cell_mask_labels = pd.concat([cell_mask_labels, cell_props])\n",
    "                zero_array[i, ...] = cell_masks_var[i, ...]\n",
    "            else: \n",
    "                # For all cell masks in the current frame. \n",
    "                # Initialise variable. \n",
    "                single_frame_var = np.array(cell_masks_var[i, ...], dtype = int)\n",
    "                for m in range(cell_props.shape[0]):     \n",
    "                    # Find out if the pixel of a previous frames \n",
    "                    # mask overlaps with the current one. \n",
    "                    overlapping_mask = np.where((cell_mask_labels['centroid-0'] >= cell_props['centroid-0'].iloc[m]-30) & \n",
    "                                               (cell_mask_labels['centroid-0'] <= cell_props['centroid-0'].iloc[m]+30) &\n",
    "                                               (cell_mask_labels['centroid-1'] >= cell_props['centroid-1'].iloc[m]-30) &\n",
    "                                               (cell_mask_labels['centroid-1'] <= cell_props['centroid-1'].iloc[m]+30) )[0]\n",
    "                    # If there is no overlap. \n",
    "                    if len(overlapping_mask) == 0:\n",
    "                        # Create a new cell ID\n",
    "                        new_cell_id = np.max(cell_mask_labels['label']) + 1 \n",
    "                        # rename cell mask. \n",
    "                        cell_loc = np.where(single_frame_var == cell_props['label'].iloc[m])\n",
    "                        zero_array[i, cell_loc[0], cell_loc[1]] = new_cell_id\n",
    "                        \n",
    "                        heads = cell_props.columns.values\n",
    "                    \n",
    "                        temp = pd.DataFrame({heads[0]:[new_cell_id], \n",
    "                                            heads[1]:[cell_props[heads[1]].iloc[m]], \n",
    "                                            heads[2]:[cell_props[heads[2]].iloc[m]]})\n",
    "                        \n",
    "                        # Add mask value to dataframe. \n",
    "                        cell_mask_labels = pd.concat([cell_mask_labels, \n",
    "                                            temp], ignore_index = True)\n",
    "         \n",
    "                    else: \n",
    "                        new_cell_id = cell_mask_labels['label'].loc[overlapping_mask[0]]\n",
    "                        # rename cell mask. \n",
    "                        cell_loc = np.where(single_frame_var == cell_props['label'].iloc[m])\n",
    "                        zero_array[i, cell_loc[0], cell_loc[1]] = new_cell_id\n",
    "        \n",
    "                        temp = pd.DataFrame(cell_props.iloc[m])\n",
    "                        # Add mask value to dataframe. \n",
    "                        cell_mask_labels = pd.concat([cell_mask_labels, \n",
    "                                                     temp.transpose()], ignore_index = True)\n",
    "                \n",
    "    return(zero_array, cell_mask_labels)\n",
    "           "
   ]
  },
  {
   "cell_type": "markdown",
   "id": "f399f08d-fc54-4428-ac7d-f633432ad8b4",
   "metadata": {},
   "source": [
    "-----\n",
    "### Generate the output for the analysis"
   ]
  },
  {
   "cell_type": "code",
   "execution_count": 10,
   "id": "2a8432cf-1c32-4ee4-aa51-712032d13929",
   "metadata": {},
   "outputs": [],
   "source": [
    "def count_circles_in_cells(frames_of_interest, cell_masks, yel_circ_props, mag_circ_props):\n",
    "    '''For each of the \"frames of interest\" and each time point in the\n",
    "    image stack, record the number of circles in each cell in the yellow\n",
    "    and magenta channels. \n",
    "    This information is recorded in the dataframes containing the \n",
    "    circles' properties in each colour channel. \n",
    "    - The results of this are that the \"circle property dataframe\" \n",
    "        now have the following headers. \n",
    "        \n",
    "    Circle Labels | Centroid-0 | Centroid-1 | Area | intensity_max | intensity_mean | Frame | Cell ID |\n",
    "    \n",
    "    The last two headers are added to the dataframe, with the express intention of allowing the \n",
    "    user to trace back to where in the original image the circles created within the cell are \n",
    "    counted from, and to make sure that we can attribute a number of the circles to a particular \n",
    "    cell, even if they appear across several different z positions. \n",
    "    '''\n",
    "\n",
    "    # Initialise\n",
    "    prop = {'label'}\n",
    "    yel_circ_properties['Cell ID'] = 0\n",
    "    mag_circ_properties['Cell ID'] = 0\n",
    "    frames_of_interest = np.array(interesting_frames)\n",
    "    cell_masks = np.array(cell_masks_array)\n",
    "    \n",
    "    # for all the important frames. \n",
    "    for k in range( cell_masks.shape[0] ): \n",
    "        # For all the cell masks. \n",
    "        for j in range( int( np.max(cell_masks[k, ...]) ) ):\n",
    "\n",
    "            if len(np.where(frames_of_interest == k)[0]) != 0: \n",
    "                # Cell ID \n",
    "                cell_id = j + 1\n",
    "                # cell_loc in image. \n",
    "                cell_loc = np.where(cell_masks[k, ...] == cell_id)\n",
    "            \n",
    "                # Copy the cell masks frame \n",
    "                single_frame = np.zeros([cell_masks.shape[1], \n",
    "                                         cell_masks.shape[2]])\n",
    "                # binaries so only single cell is shown\n",
    "                single_frame[cell_loc[0], cell_loc[1]] = 1\n",
    "            \n",
    "                # Find all the circles in the cell\n",
    "                yel_circs = np.array(single_frame * np.array(circ_im_yel)[k, ...], dtype = int)\n",
    "                mag_circs = np.array(single_frame * np.array(circ_im_mag)[k, ...], dtype = int)\n",
    "                # Cell labels \n",
    "                yel_cell_labels = pd.DataFrame(skimage.measure.regionprops_table\n",
    "                                           (yel_circs, properties = prop))\n",
    "                mag_circ_labels = pd.DataFrame(skimage.measure.regionprops_table\n",
    "                                           (mag_circs, properties = prop))\n",
    "        \n",
    "                # for the number of circles present in the cell. \n",
    "                for m in range( yel_cell_labels.shape[0] ):\n",
    "                    # find the specific corresponding circle to this cell mask\n",
    "                    yel_df_index = np.where( (yel_circ_props['label'] == yel_cell_labels['label'].iloc[m]) &\n",
    "                                               (yel_circ_props['Frame'] == k))[0]\n",
    "                    # Add the cell number to the properties list. \n",
    "                    if len(yel_df_index) > 0: \n",
    "                        yel_circ_props.loc[yel_df_index, 'Cell ID'] = [cell_id]\n",
    "                    \n",
    "                # for the number of circles present in the cell. \n",
    "                for m in range( mag_circ_labels.shape[0] ):\n",
    "                    # find the specific corresponding circle to this cell mask    \n",
    "                    mag_df_index = np.where( (mag_circ_props['label'] == mag_circ_labels['label'].iloc[m]) &\n",
    "                                               (mag_circ_props['Frame'] == k))[0]\n",
    "                    \n",
    "                    if len(mag_df_index) > 0:\n",
    "                        mag_circ_props.loc[mag_df_index, 'Cell ID'] = [cell_id]\n",
    "\n",
    "    yel_circ_props = yel_circ_props.rename(columns={'label':'Macropinosomes ID', 'Frame': 'Z position'})\n",
    "    mag_circ_props = mag_circ_props.rename(columns={'label':'Macropinosomes ID', 'Frame': 'Z position'})\n",
    "        \n",
    "    return(yel_circ_props, mag_circ_props)"
   ]
  },
  {
   "cell_type": "markdown",
   "id": "0794d14c-a62c-4241-898b-603a84924d9a",
   "metadata": {},
   "source": [
    "-----\n",
    "### Count how many circles are overlapping between the two channel"
   ]
  },
  {
   "cell_type": "code",
   "execution_count": 11,
   "id": "e5bce941-7238-4570-b390-6c5e9be52444",
   "metadata": {
    "scrolled": true
   },
   "outputs": [],
   "source": [
    "def calculate_the_overlap(yel_masks, mag_masks):\n",
    "    '''Calculate the number of overlapping circles from the \n",
    "    two channels within the cells.'''\n",
    "\n",
    "    # Initalise\n",
    "    overlap_circs_per_frame = []\n",
    "    num_of_yel_circs = []\n",
    "    num_of_mag_circs = []\n",
    "\n",
    "    # For all z positions\n",
    "    for z in range( yel_masks.shape[0] ):\n",
    "        # Find the number of circle masks in the \n",
    "        # Yellow channel of the image. \n",
    "        maxi_circ_id = np.max(yel_masks[z, ...])\n",
    "        # Initialise. \n",
    "        overlap_circs = 0\n",
    "        # If there is more than 0 circles in the frame. \n",
    "        if maxi_circ_id != 0: \n",
    "            # For all cell masks. \n",
    "            for c in range( maxi_circ_id ):\n",
    "                # Find the pixels that correlate to this \n",
    "                # circle in the other channel. \n",
    "                circ_locations = np.where(yel_masks[z, ...] == c+1)\n",
    "                # If their are circles in the image frame. \n",
    "                if len(circ_locations[0]) != 0:\n",
    "                    # See if the magenta circles overlap the yellow image. \n",
    "                    mag_circs = mag_masks[z, circ_locations[0], circ_locations[1]]\n",
    "                    # If the magenta and yellow circle overlap\n",
    "                    if np.max(mag_circs) > 0:\n",
    "                        overlap_circs = overlap_circs + 1 \n",
    "        # Save the number of overlapping circles in the \n",
    "        # Image frame. \n",
    "        overlap_circs_per_frame.append(overlap_circs)\n",
    "        num_of_yel_circs.append(np.max(yel_masks[z, ...]))\n",
    "        num_of_mag_circs.append(np.max(mag_masks[z, ...]))\n",
    "\n",
    "    return(np.array(overlap_circs_per_frame), \n",
    "           np.array(num_of_yel_circs), \n",
    "           np.array(num_of_mag_circs))"
   ]
  },
  {
   "cell_type": "markdown",
   "id": "bed159d1-d8a7-4b70-abba-87984087a41f",
   "metadata": {},
   "source": [
    "----\n",
    "### Create summary dataframe. "
   ]
  },
  {
   "cell_type": "code",
   "execution_count": 12,
   "id": "fcf03db5-035f-4a50-b7d6-feda85dad6de",
   "metadata": {},
   "outputs": [],
   "source": [
    "def summary_dataframe(r, t, yellow_circ_props,\n",
    "                      magenta_circ_props, file_name, \n",
    "                      num_yellow_circs, num_magenta_circs):\n",
    "    ''''''\n",
    "\n",
    "    # Initalise. \n",
    "    image_overall = pd.DataFrame()\n",
    "    \n",
    "    for j in range( yel_im.shape[2] ): \n",
    "        # get important info for the mean dataframe. \n",
    "        yellow_sub = yellow_circ_props[yellow_circ_props['Z position'] == j]\n",
    "        yel_area_circs = yellow_sub['Area'].mean()\n",
    "        yel_intenisty_circs = yellow_sub['intensity_max'].mean()\n",
    "    \n",
    "        magenta_sub = magenta_circ_props[magenta_circ_props['Z position'] == j]\n",
    "        mag_area_circs = magenta_sub['Area'].mean()\n",
    "        mag_intenisty_circs = yellow_sub['intensity_max'].mean()\n",
    "    \n",
    "        # Store data into a dictionary. \n",
    "        frame_data = {'File Name': [os.path.basename(file_name)], \n",
    "                 'Image Region': [r], \n",
    "                 'Time Point': [t], \n",
    "                 'Z postions': [j], \n",
    "                 'Number of Cells in Frame': [np.max(cell_mask_im[j])], \n",
    "                 'Total # Yellow macropinosomes per cell': [num_yellow_circs[j]], \n",
    "                 'Total # Magena macropinosomes per cell': [num_magenta_circs[j]], \n",
    "                 'Total # Overlapping macropinosomes': [overlapping_circles[j]], \n",
    "                 '% of Yellow macropinosomes overlapping': [100*(overlapping_circles[j] / num_yellow_circs[j])],\n",
    "                 '% of Magenta macropinosomes overlapping': [100*(overlapping_circles[j] / num_magenta_circs[j])],\n",
    "                 'Mean area of Yellow macropinosomes overlapping per cell': [yel_area_circs/yellow_circ_props['Cell ID'].max()], \n",
    "                 'Mean area of Magenta macropinosomes overlapping per cell': [mag_area_circs/magenta_circ_props['Cell ID'].max()],\n",
    "                 'Mean fluorescent intensity value per macropinosomes per cell': [yel_intenisty_circs/yellow_circ_props['Cell ID'].max()] }\n",
    "        \n",
    "        # Add data into dataframe. \n",
    "        image_overall = pd.concat([image_overall, pd.DataFrame(frame_data)])\n",
    "\n",
    "    return(image_overall.fillna(0))\n"
   ]
  },
  {
   "cell_type": "code",
   "execution_count": 13,
   "id": "e271d8a8-0029-48b8-ba29-5e21233e2d54",
   "metadata": {},
   "outputs": [],
   "source": [
    "def create_folder(folder_path):\n",
    "\n",
    "    if os.path.exists(folder_path) == False: \n",
    "        os.mkdir(folder_path)"
   ]
  },
  {
   "cell_type": "markdown",
   "id": "fb3d650b-e085-493f-88d8-bd320fde6117",
   "metadata": {
    "tags": []
   },
   "source": [
    "-----\n",
    "### Read image \n",
    "\n",
    "**The image shape:**  \n",
    "3 = Image channel  \n",
    "16 = Time points.   \n",
    "8 = Z planes   \n",
    "1024 = x/y  \n",
    "1024 = y/x  "
   ]
  },
  {
   "cell_type": "code",
   "execution_count": 15,
   "id": "87bb7487-7592-438f-8105-5676e12cba63",
   "metadata": {
    "tags": []
   },
   "outputs": [],
   "source": [
    "def load_im_data(file_name):\n",
    "    '''Load the image data from the .czi file. '''\n",
    "\n",
    "    # Extract a single file name. \n",
    "    image_data = czi.imread(file_name)[0, 0, 0, 0, 0, ..., 0]\n",
    "    \n",
    "    yellow_im = image_data[:, 0, ...]\n",
    "    magneta_im = image_data[:, 1, ...]\n",
    "\n",
    "    return(yellow_im, magneta_im)"
   ]
  },
  {
   "cell_type": "markdown",
   "id": "4a56e805-a3dd-477f-a07f-2eb4730c5765",
   "metadata": {
    "tags": []
   },
   "source": [
    "-------\n",
    "### Get file name "
   ]
  },
  {
   "cell_type": "code",
   "execution_count": 16,
   "id": "83d53386-0c0d-4e59-aa07-ba3078151be4",
   "metadata": {
    "tags": []
   },
   "outputs": [
    {
     "name": "stdout",
     "output_type": "stream",
     "text": [
      "N:/RCORBYN/User_Data/Current_Projects/20240411_Abhi/Raw Images/Control_2min-int_t3_sum_633-80pc.czi\n"
     ]
    }
   ],
   "source": [
    "# # # Creates dialogue to ask directory\n",
    "# # # Get the folder containing the image stack. \n",
    "root = tk.Tk()\n",
    "root.attributes('-topmost', True)\n",
    "root.withdraw() # Stops a second window opening\n",
    "stack_file_name = filedialog.askopenfilename(title = 'Select Stack file')\n",
    "\n",
    "print(stack_file_name)"
   ]
  },
  {
   "cell_type": "code",
   "execution_count": 17,
   "id": "ac23e953-518d-4aa9-a0f6-87713e2356dc",
   "metadata": {
    "scrolled": true,
    "tags": []
   },
   "outputs": [
    {
     "name": "stdout",
     "output_type": "stream",
     "text": [
      "(5, 9, 5, 1024, 1024) (5, 9, 5, 1024, 1024)\n",
      "0 0 0\n"
     ]
    },
    {
     "ename": "IndexError",
     "evalue": "list index out of range",
     "output_type": "error",
     "traceback": [
      "\u001b[1;31m---------------------------------------------------------------------------\u001b[0m",
      "\u001b[1;31mIndexError\u001b[0m                                Traceback (most recent call last)",
      "Cell \u001b[1;32mIn[17], line 85\u001b[0m\n\u001b[0;32m     82\u001b[0m overlapping_circles, num_yellow_circs, num_magenta_circs \u001b[38;5;241m=\u001b[39m calculate_the_overlap(filtered_yel_masks, \n\u001b[0;32m     83\u001b[0m                                             filtered_mag_masks)\n\u001b[0;32m     84\u001b[0m \u001b[38;5;66;03m# Create a summary file. \u001b[39;00m\n\u001b[1;32m---> 85\u001b[0m summary \u001b[38;5;241m=\u001b[39m \u001b[43msummary_dataframe\u001b[49m\u001b[43m(\u001b[49m\u001b[43mr\u001b[49m\u001b[43m,\u001b[49m\u001b[43m \u001b[49m\u001b[43mt\u001b[49m\u001b[43m,\u001b[49m\u001b[43m \u001b[49m\u001b[43myellow_circ_props\u001b[49m\u001b[43m,\u001b[49m\n\u001b[0;32m     86\u001b[0m \u001b[43m                      \u001b[49m\u001b[43mmagenta_circ_props\u001b[49m\u001b[43m,\u001b[49m\u001b[43m \u001b[49m\u001b[43mstack_file_name\u001b[49m\u001b[43m,\u001b[49m\u001b[43m \u001b[49m\n\u001b[0;32m     87\u001b[0m \u001b[43m                      \u001b[49m\u001b[43mnum_yellow_circs\u001b[49m\u001b[43m,\u001b[49m\u001b[43m \u001b[49m\u001b[43mnum_magenta_circs\u001b[49m\u001b[43m)\u001b[49m\n\u001b[0;32m     89\u001b[0m summary_file \u001b[38;5;241m=\u001b[39m pd\u001b[38;5;241m.\u001b[39mconcat([summary_file, summary])\n\u001b[0;32m     91\u001b[0m \u001b[38;5;66;03m# Save file names. \u001b[39;00m\n",
      "Cell \u001b[1;32mIn[12], line 24\u001b[0m, in \u001b[0;36msummary_dataframe\u001b[1;34m(r, t, yellow_circ_props, magenta_circ_props, file_name, num_yellow_circs, num_magenta_circs)\u001b[0m\n\u001b[0;32m     17\u001b[0m mag_intenisty_circs \u001b[38;5;241m=\u001b[39m yellow_sub[\u001b[38;5;124m'\u001b[39m\u001b[38;5;124mintensity_max\u001b[39m\u001b[38;5;124m'\u001b[39m]\u001b[38;5;241m.\u001b[39mmean()\n\u001b[0;32m     19\u001b[0m \u001b[38;5;66;03m# Store data into a dictionary. \u001b[39;00m\n\u001b[0;32m     20\u001b[0m frame_data \u001b[38;5;241m=\u001b[39m {\u001b[38;5;124m'\u001b[39m\u001b[38;5;124mFile Name\u001b[39m\u001b[38;5;124m'\u001b[39m: [os\u001b[38;5;241m.\u001b[39mpath\u001b[38;5;241m.\u001b[39mbasename(file_name)], \n\u001b[0;32m     21\u001b[0m          \u001b[38;5;124m'\u001b[39m\u001b[38;5;124mImage Region\u001b[39m\u001b[38;5;124m'\u001b[39m: [r], \n\u001b[0;32m     22\u001b[0m          \u001b[38;5;124m'\u001b[39m\u001b[38;5;124mTime Point\u001b[39m\u001b[38;5;124m'\u001b[39m: [t], \n\u001b[0;32m     23\u001b[0m          \u001b[38;5;124m'\u001b[39m\u001b[38;5;124mZ postions\u001b[39m\u001b[38;5;124m'\u001b[39m: [j], \n\u001b[1;32m---> 24\u001b[0m          \u001b[38;5;124m'\u001b[39m\u001b[38;5;124mNumber of Cells in Frame\u001b[39m\u001b[38;5;124m'\u001b[39m: [np\u001b[38;5;241m.\u001b[39mmax(\u001b[43mcell_mask_im\u001b[49m\u001b[43m[\u001b[49m\u001b[43mj\u001b[49m\u001b[43m]\u001b[49m)], \n\u001b[0;32m     25\u001b[0m          \u001b[38;5;124m'\u001b[39m\u001b[38;5;124mTotal # Yellow macropinosomes per cell\u001b[39m\u001b[38;5;124m'\u001b[39m: [num_yellow_circs[j]], \n\u001b[0;32m     26\u001b[0m          \u001b[38;5;124m'\u001b[39m\u001b[38;5;124mTotal # Magena macropinosomes per cell\u001b[39m\u001b[38;5;124m'\u001b[39m: [num_magenta_circs[j]], \n\u001b[0;32m     27\u001b[0m          \u001b[38;5;124m'\u001b[39m\u001b[38;5;124mTotal # Overlapping macropinosomes\u001b[39m\u001b[38;5;124m'\u001b[39m: [overlapping_circles[j]], \n\u001b[0;32m     28\u001b[0m          \u001b[38;5;124m'\u001b[39m\u001b[38;5;132;01m% o\u001b[39;00m\u001b[38;5;124mf Yellow macropinosomes overlapping\u001b[39m\u001b[38;5;124m'\u001b[39m: [\u001b[38;5;241m100\u001b[39m\u001b[38;5;241m*\u001b[39m(overlapping_circles[j] \u001b[38;5;241m/\u001b[39m num_yellow_circs[j])],\n\u001b[0;32m     29\u001b[0m          \u001b[38;5;124m'\u001b[39m\u001b[38;5;132;01m% o\u001b[39;00m\u001b[38;5;124mf Magenta macropinosomes overlapping\u001b[39m\u001b[38;5;124m'\u001b[39m: [\u001b[38;5;241m100\u001b[39m\u001b[38;5;241m*\u001b[39m(overlapping_circles[j] \u001b[38;5;241m/\u001b[39m num_magenta_circs[j])],\n\u001b[0;32m     30\u001b[0m          \u001b[38;5;124m'\u001b[39m\u001b[38;5;124mMean area of Yellow macropinosomes overlapping per cell\u001b[39m\u001b[38;5;124m'\u001b[39m: [yel_area_circs\u001b[38;5;241m/\u001b[39myellow_circ_props[\u001b[38;5;124m'\u001b[39m\u001b[38;5;124mCell ID\u001b[39m\u001b[38;5;124m'\u001b[39m]\u001b[38;5;241m.\u001b[39mmax()], \n\u001b[0;32m     31\u001b[0m          \u001b[38;5;124m'\u001b[39m\u001b[38;5;124mMean area of Magenta macropinosomes overlapping per cell\u001b[39m\u001b[38;5;124m'\u001b[39m: [mag_area_circs\u001b[38;5;241m/\u001b[39mmagenta_circ_props[\u001b[38;5;124m'\u001b[39m\u001b[38;5;124mCell ID\u001b[39m\u001b[38;5;124m'\u001b[39m]\u001b[38;5;241m.\u001b[39mmax()],\n\u001b[0;32m     32\u001b[0m          \u001b[38;5;124m'\u001b[39m\u001b[38;5;124mMean fluorescent intensity value per macropinosomes per cell\u001b[39m\u001b[38;5;124m'\u001b[39m: [yel_intenisty_circs\u001b[38;5;241m/\u001b[39myellow_circ_props[\u001b[38;5;124m'\u001b[39m\u001b[38;5;124mCell ID\u001b[39m\u001b[38;5;124m'\u001b[39m]\u001b[38;5;241m.\u001b[39mmax()] }\n\u001b[0;32m     34\u001b[0m \u001b[38;5;66;03m# Add data into dataframe. \u001b[39;00m\n\u001b[0;32m     35\u001b[0m image_overall \u001b[38;5;241m=\u001b[39m pd\u001b[38;5;241m.\u001b[39mconcat([image_overall, pd\u001b[38;5;241m.\u001b[39mDataFrame(frame_data)])\n",
      "\u001b[1;31mIndexError\u001b[0m: list index out of range"
     ]
    }
   ],
   "source": [
    "# Inialise\n",
    "cell_mask_im = []\n",
    "circ_im_yel = []\n",
    "circ_im_mag = []\n",
    "\n",
    "# Create a save path\n",
    "save_Folder = os.path.dirname(stack_file_name) + '/' + os.path.basename(stack_file_name)[0:-4] +'/'\n",
    "create_folder(save_Folder)\n",
    "\n",
    "# Create save folders\n",
    "yel_save_folder = save_Folder + '/Yellow_channel/' \n",
    "create_folder(yel_save_folder)\n",
    "mag_save_folder = save_Folder + '/Magenta_channel/'  \n",
    "create_folder(mag_save_folder)\n",
    "\n",
    "summary_file_name = os.path.dirname(stack_file_name) + '/' +os.path.basename(stack_file_name)[0:-4] + '_Summary_file.xlsx'\n",
    "\n",
    "yel_im, mag_im = load_im_data(stack_file_name)\n",
    "print(yel_im.shape, mag_im.shape)\n",
    "\n",
    "# For all the image regions in the .czi files. \n",
    "for r in range( yel_im.shape[0] ):\n",
    "    # For all time points \n",
    "    for t in range( 1):#yel_im.shape[1] ):\n",
    "        interesting_frames = Get_Frames(yel_im[r, t, ...], 0)\n",
    "        # Inialise\n",
    "        cell_mask_im = []\n",
    "        circ_im_yel = []\n",
    "        circ_im_mag = []\n",
    "        summary_file = pd.DataFrame()\n",
    "        \n",
    "        # for all the frames. \n",
    "        for i in range( yel_im.shape[2] ): \n",
    "            if len(np.where(interesting_frames == i)[0]) > 0:  \n",
    "            \n",
    "                single_frame_yel = yel_im[r, t, i, ...]\n",
    "                single_frame_magenta = mag_im[r, t, i, ...]\n",
    "\n",
    "                # Generate cell masks for frame i\n",
    "                cell_masks = segment_the_cells_cellpose(single_frame_yel)\n",
    "                # Size filter masks \n",
    "                filtered_cells = filter_cell_labels(cell_masks)\n",
    "                # Add cell masks to an image\n",
    "                cell_mask_im.append(filtered_cells)\n",
    "                # Segment the circles using cellpose. \n",
    "                circ_mask_yel = segment_the_circles_cellpose(single_frame_yel, filtered_cells)\n",
    "                # Append to a storage variable. \n",
    "                circ_im_yel.append(circ_mask_yel)\n",
    "                \n",
    "                # Segment the circles using cellpose. \n",
    "                circ_mask_mag = segment_the_circles_cellpose(single_frame_magenta, filtered_cells)\n",
    "                # Append to a storage variable. \n",
    "                circ_im_mag.append(circ_mask_mag)\n",
    "            \n",
    "            else: \n",
    "                cell_mask_im.append(np.zeros(yel_im[r, t, i, ...].shape))\n",
    "                circ_im_yel.append(np.zeros(yel_im[r, t, i, ...].shape))\n",
    "                circ_im_mag.append(np.zeros(yel_im[r, t, i, ...].shape))\n",
    "\n",
    "        print(r, t, i)\n",
    "        \n",
    "        # Rename cell masks, so that cells that appear across multiple\n",
    "        # frames, have the same mask value.  \n",
    "        cell_masks_array, cell_mask_props = rename_cell_masks(np.array(cell_mask_im, dtype = int), interesting_frames)\n",
    "        # Convert to numpy array. \n",
    "        circ_im_yel = np.array(circ_im_yel, dtype = int) \n",
    "        circ_im_mag = np.array(circ_im_mag, dtype = int)\n",
    "\n",
    "        # Find the \"macropinosomes\" (circles) that lie within the cell \n",
    "        # masks only. \n",
    "        yel_circ_properties, filtered_yel_masks = analyse_masks_and_shape(circ_im_yel, \n",
    "                                                    yel_im[r, t,  ...])\n",
    "        mag_circ_properties, filtered_mag_masks = analyse_masks_and_shape(circ_im_mag, \n",
    "                                                    mag_im[r, t,  ...])\n",
    "        # Update the dataframes in the lines above to contain the \n",
    "        # Frame they detected in, and the cell ID of the cell they \n",
    "        # are present in. \n",
    "        yellow_circ_props, magenta_circ_props = count_circles_in_cells(interesting_frames, \n",
    "                                                cell_masks, yel_circ_properties, mag_circ_properties)\n",
    "\n",
    "        # find the number of overlapping macropinosomes in the two channels. \n",
    "        overlapping_circles, num_yellow_circs, num_magenta_circs = calculate_the_overlap(filtered_yel_masks, \n",
    "                                                    filtered_mag_masks)\n",
    "        # Create a summary file. \n",
    "        summary = summary_dataframe(r, t, yellow_circ_props,\n",
    "                              magenta_circ_props, stack_file_name, \n",
    "                              num_yellow_circs, num_magenta_circs)\n",
    "\n",
    "        summary_file = pd.concat([summary_file, summary])\n",
    "\n",
    "        # Save file names. \n",
    "        yel_im_name = 'Yellow_channel_' + os.path.basename(stack_file_name)[0:-4] + '_region_' + str(r) + '_timepoint_'+str(t) + '.csv'\n",
    "        mag_im_name = 'Magenta_channel_' + os.path.basename(stack_file_name)[0:-4] + '_region_' + str(r) + '_timepoint_'+str(t) + '.csv'\n",
    "\n",
    "        yellow_circ_props.to_csv(yel_save_folder + os.path.basename(yel_im_name))\n",
    "        magenta_circ_props.to_csv(mag_save_folder + os.path.basename(mag_im_name))\n",
    "\n",
    "        # Create summary file name. \n",
    "        summary_file_loc = save_Folder + os.path.basename(summary_file_name)\n",
    "        # If the file needs to be created. \n",
    "        if r == 0 and t == 0: \n",
    "            # Write the summary data to the save file. \n",
    "            with pd.ExcelWriter(summary_file_loc) as writer:  \n",
    "                summary_file.to_excel(writer, sheet_name='Image Region_' + str(r) + '_Time_point_' + str(t) + '.xlsx')\n",
    "            # IF the file exists, append the summary file to the same file. \n",
    "        else: \n",
    "             with pd.ExcelWriter(summary_file_loc, mode='a') as writer:  \n",
    "                summary_file.to_excel(writer, sheet_name='Image Region_' + str(r) + '_Time_point_' + str(t) + '.xlsx')\n",
    "\n",
    "  "
   ]
  },
  {
   "cell_type": "markdown",
   "id": "6c879e0c-7d18-41fa-b086-2546099bbadf",
   "metadata": {},
   "source": [
    "---- \n",
    "### Add the images to the viewer. "
   ]
  },
  {
   "cell_type": "code",
   "execution_count": null,
   "id": "e512ed93-581d-47c7-a66b-e2e49686e3d5",
   "metadata": {},
   "outputs": [],
   "source": [
    "viewer1 = napari.Viewer()\n",
    "\n",
    "viewer1.add_image(yel_im[r, t,  ...])\n",
    "viewer1.add_image(mag_im[r, t,  ...])\n",
    "\n",
    "viewer1.add_labels(np.array(filtered_yel_masks, dtype = int))\n",
    "viewer1.add_labels(np.array(filtered_mag_masks, dtype = int))"
   ]
  },
  {
   "cell_type": "code",
   "execution_count": 22,
   "id": "35c18359-34d3-496b-9337-423da0b0be45",
   "metadata": {},
   "outputs": [
    {
     "name": "stdout",
     "output_type": "stream",
     "text": [
      "//data.beatson.gla.ac.uk/data/RCORBYN/User_Data/Current Projects/20240411_Abhi/Raw Images/Control_2min-int_t3_sum_633-80pc/\n",
      "//data.beatson.gla.ac.uk/data/RCORBYN/User_Data/Current Projects/20240411_Abhi/Raw Images/Control_2min-int_t3_sum_633-80pc//Yellow_channel/ //data.beatson.gla.ac.uk/data/RCORBYN/User_Data/Current Projects/20240411_Abhi/Raw Images/Control_2min-int_t3_sum_633-80pc//Magenta_channel/\n"
     ]
    }
   ],
   "source": [
    "# # Create a save path\n",
    "# save_Folder = os.path.dirname(stack_file_name) + '/' + os.path.basename(stack_file_name)[0:-4] +'/'\n",
    "# print(save_Folder)\n",
    "# create_folder(save_Folder)\n",
    "\n",
    "# # Create save folders\n",
    "# yel_save_folder = save_Folder + '/Yellow_channel/' \n",
    "# # create_folder(yel_save_folder)\n",
    "# mag_save_folder = save_Folder + '/Magenta_channel/'  \n",
    "# # create_folder(mag_save_folder)\n",
    "\n",
    "# print(yel_save_folder, mag_save_folder)"
   ]
  },
  {
   "cell_type": "code",
   "execution_count": 18,
   "id": "7c017fbe-4c87-4cce-92e4-9a4231db71c3",
   "metadata": {},
   "outputs": [],
   "source": [
    "import aicsimageio as aics"
   ]
  },
  {
   "cell_type": "code",
   "execution_count": 21,
   "id": "3ecc2a6b-d86c-47f0-9187-55d0eb6720a3",
   "metadata": {},
   "outputs": [],
   "source": [
    "im_dat = aics.imread(stack_file_name)"
   ]
  },
  {
   "cell_type": "code",
   "execution_count": 20,
   "id": "f6c00b34-141f-4b0f-ac52-ef4c94d5b7c3",
   "metadata": {},
   "outputs": [],
   "source": [
    "!pip install aicspylibczi>=3.1.1"
   ]
  },
  {
   "cell_type": "code",
   "execution_count": 22,
   "id": "1b3c976e-4a7e-43cc-b16a-bb2ea4bcaf93",
   "metadata": {},
   "outputs": [
    {
     "name": "stdout",
     "output_type": "stream",
     "text": [
      "(9, 3, 5, 1024, 1024)\n"
     ]
    }
   ],
   "source": [
    "print(im_dat.shape)"
   ]
  },
  {
   "cell_type": "code",
   "execution_count": 26,
   "id": "d2d6bf33-78d1-44df-9670-bea199500afc",
   "metadata": {},
   "outputs": [],
   "source": [
    "meta_data = aics"
   ]
  },
  {
   "cell_type": "code",
   "execution_count": null,
   "id": "e77960e9-d855-4fa4-ae71-a4c6ed6bafc8",
   "metadata": {},
   "outputs": [],
   "source": []
  }
 ],
 "metadata": {
  "kernelspec": {
   "display_name": "Python 3 (ipykernel)",
   "language": "python",
   "name": "python3"
  },
  "language_info": {
   "codemirror_mode": {
    "name": "ipython",
    "version": 3
   },
   "file_extension": ".py",
   "mimetype": "text/x-python",
   "name": "python",
   "nbconvert_exporter": "python",
   "pygments_lexer": "ipython3",
   "version": "3.10.15"
  }
 },
 "nbformat": 4,
 "nbformat_minor": 5
}
