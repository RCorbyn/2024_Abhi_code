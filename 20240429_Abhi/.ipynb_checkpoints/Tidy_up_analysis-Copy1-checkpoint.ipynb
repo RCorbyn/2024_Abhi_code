{
 "cells": [
  {
   "cell_type": "markdown",
   "id": "02cd726b-ab6d-4fc6-82a3-b8244a883166",
   "metadata": {},
   "source": [
    "# Tidy up the analysis sequence"
   ]
  },
  {
   "cell_type": "markdown",
   "id": "716a07d8-b002-4e63-bb74-06fcfc4f27b1",
   "metadata": {},
   "source": [
    "---------\n",
    "### Import dependancies"
   ]
  },
  {
   "cell_type": "code",
   "execution_count": 20,
   "id": "0a04dbee-e19c-4708-b663-d1a6112380e6",
   "metadata": {
    "tags": []
   },
   "outputs": [],
   "source": [
    "import czifile as czi \n",
    "\n",
    "from cellpose import core, models, io, metrics\n",
    "\n",
    "import napari\n",
    "import numpy as np\n",
    "\n",
    "import matplotlib.pyplot as plt\n",
    "\n",
    "import tkinter as tk\n",
    "from tkinter import filedialog\n",
    "\n",
    "import skimage\n",
    "import scipy as sci\n",
    "import pandas as pd"
   ]
  },
  {
   "cell_type": "markdown",
   "id": "c69620a9-55fe-4ad6-9ae7-a37f055a24e5",
   "metadata": {},
   "source": [
    "---\n",
    "### Select cellpose model"
   ]
  },
  {
   "cell_type": "code",
   "execution_count": 14,
   "id": "87abeb6e-3b07-4704-b640-5e50b90ef391",
   "metadata": {},
   "outputs": [
    {
     "name": "stdout",
     "output_type": "stream",
     "text": [
      "N:/RCORBYN/User_Data/Current Projects/20240411_Abhi/20240604_QuPath_circles/ground_truth/models/2024_06_05_14_36_50__Abhi_cells_circs\n"
     ]
    }
   ],
   "source": [
    "# # # Creates dialogue to ask directory\n",
    "# # # Get the folder containing the image stack. \n",
    "root = tk.Tk()\n",
    "root.attributes('-topmost', True)\n",
    "root.withdraw() # Stops a second window opening\n",
    "cellpose_model_loc = filedialog.askopenfilename(title = 'Select Stack file')\n",
    "\n",
    "print(cellpose_model_loc)"
   ]
  },
  {
   "cell_type": "markdown",
   "id": "c76485d1-c2f7-43c5-a48c-bb3c7d873066",
   "metadata": {},
   "source": [
    "------\n",
    "### Find cells in z slice. "
   ]
  },
  {
   "cell_type": "code",
   "execution_count": 2,
   "id": "13a9ce3c-a491-4d93-b059-b4c03781c65c",
   "metadata": {
    "tags": []
   },
   "outputs": [],
   "source": [
    "def get_labels_for_z_pos(im_dat):\n",
    "    '''This method takes in 1 z-slice from the image at a time, \n",
    "    that has already been selected for analysis, and then uses the following \n",
    "    steps to locate the cells within the image.\n",
    "    1. Apply a Gaussian blur to the image, sigma = 2.\n",
    "    2. Perform thresholding with the Otzu filter. \n",
    "    3. Use the \"fill holes\" function in python to create complete cell masks. \n",
    "    4. Convert the binary image into labels. '''\n",
    "    \n",
    "    # Apply a gaussian filter to image. \n",
    "    blurred_im = skimage.filters.gaussian(im_dat, sigma =2)*100\n",
    "    # Use the Otzu algorithm for thresholding \n",
    "    threshold = skimage.filters.threshold_otsu(blurred_im)\n",
    "    \n",
    "    # binarise image \n",
    "    thresh_im = np.array(blurred_im)\n",
    "    # Perform Thresholding\n",
    "    thresh_im[thresh_im<threshold] = 1\n",
    "    thresh_im[thresh_im>=threshold] = 0\n",
    "    \n",
    "    # Fill holes in bonary mask. \n",
    "    thresh_im = sci.ndimage.binary_fill_holes(thresh_im)\n",
    "    # Convert binary mask to labels. \n",
    "    labels = skimage.measure.label(thresh_im)\n",
    "\n",
    "    return(labels)"
   ]
  },
  {
   "cell_type": "markdown",
   "id": "e6e5a3aa-7e08-4d28-bab3-aa19a8756953",
   "metadata": {},
   "source": [
    "-----\n",
    "### Segment cells with Cellpose"
   ]
  },
  {
   "cell_type": "code",
   "execution_count": 150,
   "id": "21da3d13-2db2-4f4b-8c12-acb7c908e842",
   "metadata": {},
   "outputs": [],
   "source": [
    "def segment_the_cells_cellpose(cropped_im): \n",
    "    '''This method takes in 1 z-slice from the image at a time, \n",
    "    that has already been selected for analysis, and then uses the following \n",
    "    steps to locate the cells within the image.\n",
    "    1. Segment the cells using cellpose model.'''\n",
    "    \n",
    "    # Initalise\n",
    "    im = cropped_im\n",
    "    \n",
    "    model_loc = '//data.beatson.gla.ac.uk/data/RCORBYN/User_Data/Current Projects/20240411_Abhi/QuPath_cells/ground_truth/models/2024_05_07_14_03_55__Abhi_cells' \n",
    "    \n",
    "    # Load the cellpose model.\n",
    "    model = models.CellposeModel(gpu=True, model_type=model_loc)\n",
    "    \n",
    "\n",
    "    # Cellpose segmentation of the filtered data. \n",
    "    masks, flows, styles = model.eval(im, channels=[0, 0], diameter = None)\n",
    "    \n",
    "    return(masks)"
   ]
  },
  {
   "cell_type": "markdown",
   "id": "1dfb4882-28f0-425c-b2f7-5fd262cec940",
   "metadata": {},
   "source": [
    "--------\n",
    "### Work out which frames to look at"
   ]
  },
  {
   "cell_type": "code",
   "execution_count": 3,
   "id": "aae3f272-e7d3-4544-8877-afd4625a0c33",
   "metadata": {
    "tags": []
   },
   "outputs": [],
   "source": [
    "def Get_Frames(im_data, t):\n",
    "    '''Find the frames that have something worth analysing in. \n",
    "    So far this is done byb a very simple filter of \"intensity above 8000 counts.'''\n",
    "\n",
    "    # Initalise. \n",
    "    frames_to_analyse = []\n",
    "    all_labels = []\n",
    "\n",
    "    # Loop around the image z positions.\n",
    "    for z in range(im_data.shape[1]):\n",
    "        # If mean intensity in image reaches the threshold.\n",
    "        if np.mean(im_data[t, z, ...]) > 8000: \n",
    "            # Extract the single frame. \n",
    "            single_frame = np.array(im_data[t, z, ...])\n",
    "            # Append the frame to a list of frames. \n",
    "            frames_to_analyse.append(z)\n",
    "\n",
    "    return(frames_to_analyse)\n"
   ]
  },
  {
   "cell_type": "markdown",
   "id": "dee4ac1d-d229-46b1-9099-ab668ee5761b",
   "metadata": {},
   "source": [
    "------\n",
    "### Filter cell masks by size. \n",
    "Keep the larger cell objects. "
   ]
  },
  {
   "cell_type": "code",
   "execution_count": 4,
   "id": "7def4182-f01a-4557-8a07-69df2eef1fb4",
   "metadata": {
    "tags": []
   },
   "outputs": [],
   "source": [
    "def filter_cell_labels(labs):\n",
    "    '''Use an area filter to remove cell masks that are too small.'''\n",
    "    \n",
    "    # Define the properties we want to look at. \n",
    "    props = {'Label', 'Area'}\n",
    "    # use region_props_table to discover the cell area. \n",
    "    label_props = pd.DataFrame(skimage.measure.regionprops_table(labs, properties= props))\n",
    "\n",
    "    # Create an arbitrary cut-off for crap. \n",
    "    cutoff = 2000\n",
    "\n",
    "    # initalise. \n",
    "    new_labels = np.zeros([labs.shape[0], labs.shape[1]], dtype = int)\n",
    "    \n",
    "    counter = 1\n",
    "    # For all segemented cells. \n",
    "    for i in range( label_props.shape[0]):\n",
    "        mask_coords = np.where(labs == label_props['Label'].iloc[i])\n",
    "        # If the cell is greater than the cutoff. \n",
    "        if len(mask_coords[0]) > cutoff: \n",
    "            # Save the cell mask, also rename cell masks. \n",
    "            new_labels[mask_coords[0], mask_coords[1]] = int(counter)\n",
    "            \n",
    "            counter = counter + 1\n",
    "            \n",
    "    return(new_labels)"
   ]
  },
  {
   "cell_type": "code",
   "execution_count": null,
   "id": "c8762ddd-3d74-486f-8ee1-9becd4fdc33d",
   "metadata": {},
   "outputs": [],
   "source": []
  },
  {
   "cell_type": "markdown",
   "id": "3b1a16af-5dd5-496a-9ad6-25bb15d42843",
   "metadata": {},
   "source": [
    "--- \n",
    "### Use cellpose to find circles."
   ]
  },
  {
   "cell_type": "code",
   "execution_count": 155,
   "id": "35a4e1aa-f04b-4919-a291-279aa1679732",
   "metadata": {},
   "outputs": [],
   "source": [
    "def segment_the_circles_cellpose(cropped_im, cell_labels): \n",
    "    '''This method takes in 1 z-slice from the image at a time, \n",
    "    that has already been selected for analysis, and then uses the following \n",
    "    steps to locate the cells within the image.\n",
    "    1. Segment the cells using cellpose model.'''\n",
    "    \n",
    "    # Initalise\n",
    "    im = cropped_im\n",
    "    # Load the cellpose model.\n",
    "    model = models.CellposeModel(gpu=True, model_type=cellpose_model_loc)\n",
    "    \n",
    "    cells_binary = np.array(cell_labels, dtype = int)\n",
    "    \n",
    "    # make a binary mask of cells \n",
    "    cells_binary[cells_binary > 0] = 1\n",
    "    cells_binary[cells_binary < 0] = 0\n",
    "\n",
    "    # Cellpose segmentation of the filtered data. \n",
    "    masks, flows, styles = model.eval(im, channels=[0, 0], diameter = None)\n",
    "    \n",
    "    masks = masks * cells_binary\n",
    "    \n",
    "    return(masks)\n",
    "    "
   ]
  },
  {
   "cell_type": "markdown",
   "id": "8a3d6285-27f0-4a94-9cf3-8caba678359d",
   "metadata": {
    "tags": []
   },
   "source": [
    "---- \n",
    "### Non-DL segmentation"
   ]
  },
  {
   "cell_type": "code",
   "execution_count": 5,
   "id": "12ae48ef-6fb2-417a-af76-080a9d13ed81",
   "metadata": {
    "tags": []
   },
   "outputs": [],
   "source": [
    "def Make_all_circ_labels(cropped_im, im_labels):\n",
    "    '''This method takes in 1 z-slice from the image at a time, \n",
    "    that has already been selected for analysis, and then uses the following \n",
    "    steps to locate the cells within the image.\n",
    "    1. Apply a Gaussian blur to the image, sigma = 2.\n",
    "    2. Perform thresholding with the Otzu filter. \n",
    "    3. Use the \"fill holes\" function in python to create complete cell masks. \n",
    "    4. Convert the binary image into labels. '''\n",
    "    \n",
    "    im = cropped_im \n",
    "    \n",
    "    # Apply a gaussian filter to image. \n",
    "    blurred_crop = skimage.filters.gaussian(im, sigma = 1.5 )*100\n",
    "    # Use the Otzu algorithm for thresholding \n",
    "    threshold = skimage.filters.threshold_otsu(blurred_crop[blurred_crop > 0])\n",
    "    \n",
    "    # binarise image \n",
    "    thresh_crop = np.array(blurred_crop)\n",
    "    # Perform Thresholding\n",
    "    thresh_crop[thresh_crop<=threshold] = 0\n",
    "    thresh_crop[thresh_crop>threshold] = 1\n",
    "    \n",
    "    # Fill holes in bonary mask. \n",
    "    thresh_crop = sci.ndimage.binary_fill_holes(thresh_crop)\n",
    "    \n",
    "    # Convert binary mask to labels. \n",
    "    circ_labels = skimage.measure.label(thresh_crop)\n",
    "\n",
    "    return(circ_labels)"
   ]
  },
  {
   "cell_type": "code",
   "execution_count": 6,
   "id": "8c543e41-f581-4d2e-ba16-403d2142e662",
   "metadata": {},
   "outputs": [],
   "source": [
    "def filter_circles(blur_crop, label_crop, cell_mask): \n",
    "    ''' '''\n",
    "    \n",
    "    # initalisation\n",
    "    zeros = np.zeros(blur_crop.shape, dtype = int)\n",
    "    label_count = 1\n",
    "    circ_props = {'Label', 'Area', 'eccentricity'}\n",
    "    \n",
    "    # Measure the properties of the circluar images. \n",
    "    crop_labels = pd.DataFrame(skimage.measure.regionprops_table(\n",
    "                        label_crop, properties= circ_props))\n",
    "    \n",
    "    # For all of the circles in the cropped region. \n",
    "    for i in range( len(crop_labels)  ):\n",
    "        # Label values start at 1, so need to create \n",
    "        # a second counter. \n",
    "        label_val = i + 1\n",
    "        # Find the position of the masks with \n",
    "        # the current label-value in the image crop.\n",
    "        location = np.where(label_crop== label_val)\n",
    "        # Initalise\n",
    "        sum_of_pixels = 0\n",
    "        # For all of the pixels in the image. \n",
    "        for k in range( len(location[0]) ):\n",
    "            # Calculate the sum of pixel values in the cell masks.\n",
    "            sum_of_pixels = sum_of_pixels + np.sum(cell_mask[location[0][k], location[1][k]])\n",
    "\n",
    "        # If the total sum of pixel values of the circular mask in \n",
    "        # the cell mask is equal to the total number of pixels multiplied \n",
    "        # by the cell mask value (if the circle is completely in the cell). \n",
    "        if sum_of_pixels == len(location[0]) and crop_labels['eccentricity'].iloc[i] < 0.75:\n",
    "            # Add circle to a new labels dataframe. \n",
    "            zeros[location[0], location[1]] = label_count\n",
    "            # Add to the lable counter plus 1. \n",
    "            label_count = int(label_count + 1)\n",
    "        \n",
    "    return(zeros)"
   ]
  },
  {
   "cell_type": "markdown",
   "id": "c7bf6980-664b-4679-8e4a-e371e36d4d0e",
   "metadata": {
    "tags": []
   },
   "source": [
    "------\n",
    "### Find the number of circles in the cell mask labels. \n",
    "This method will take: \n",
    "1. Raw image data (Yellow CH1 or Purple CH2). \n",
    "2. The filtered masks."
   ]
  },
  {
   "cell_type": "code",
   "execution_count": 7,
   "id": "4e84f132-6b12-4f22-bb88-686ee2227d1a",
   "metadata": {
    "tags": []
   },
   "outputs": [],
   "source": [
    "def find_circles(raw_im, cell_masks):\n",
    "    ''' '''\n",
    "    # Define the properties we want to look at. \n",
    "    props = {'Label', 'Area'}\n",
    "    mask_properties = pd.DataFrame(skimage.measure.regionprops_table(\n",
    "                                    cell_masks, properties= props))\n",
    "\n",
    "    circ_mask_im = np.zeros(raw_im.shape)\n",
    "\n",
    "    for j in range(mask_properties.shape[0] ):\n",
    "        # Get image label ID. \n",
    "        label_val = mask_properties['Label'].iloc[j]\n",
    "\n",
    "        # Find the pixel positions of the mask.\n",
    "        pixels_loc = np.where(cell_masks == label_val)\n",
    "\n",
    "        if len(pixels_loc[0]) > 0: \n",
    "            # Find the maximum bounds of the cell mask.\n",
    "            square = [np.min(pixels_loc[0]), np.max(pixels_loc[0]), \n",
    "                      np.min(pixels_loc[1]), np.max(pixels_loc[1])]\n",
    "\n",
    "            # Create cropped images. \n",
    "            square_im = raw_im[square[0]:square[1], square[2]:square[3]]\n",
    "            cropped_labels = np.array(cell_masks[square[0]:square[1], square[2]:square[3]])\n",
    "            single_cell_masks = np.array(cropped_labels)\n",
    "\n",
    "            if square[1] - square[0]  > 0 and square[3] - square[2] > 0:\n",
    "                # Generate the labels for circles in the image.\n",
    "                single_cell_masks[single_cell_masks == label_val] = 1\n",
    "                single_cell_masks[single_cell_masks != 1] = 0\n",
    "\n",
    "                circ_label = Make_all_circ_labels(square_im, cropped_labels)\n",
    "            \n",
    "                square_im_2 = square_im * single_cell_masks\n",
    "\n",
    "                filtered_circs = filter_circles(square_im_2, circ_label, single_cell_masks)\n",
    "\n",
    "                circ_mask_im[square[0]:square[1], square[2]:square[3]] = filtered_circs\n",
    "        else: \n",
    "            continue\n",
    "\n",
    "    return(circ_mask_im)\n"
   ]
  },
  {
   "cell_type": "code",
   "execution_count": null,
   "id": "a8be1cda-4bde-4060-ac92-a37f6ee2ec2c",
   "metadata": {},
   "outputs": [],
   "source": []
  },
  {
   "cell_type": "code",
   "execution_count": null,
   "id": "6e372e9a-74f5-4e03-ab19-ce6728072344",
   "metadata": {},
   "outputs": [],
   "source": []
  },
  {
   "cell_type": "markdown",
   "id": "03ece326-1255-4619-9946-5c797fcc3013",
   "metadata": {},
   "source": [
    "---- \n",
    "### Remove overlapping masks, keeping largest"
   ]
  },
  {
   "cell_type": "code",
   "execution_count": 143,
   "id": "c4e79f61-ac4f-4d33-8e73-7bd0101027b7",
   "metadata": {},
   "outputs": [],
   "source": [
    "def analyse_masks_and_shape(circle_masks):\n",
    "    '''For each of the frames in the masks store variable, this method \n",
    "    cycles through all of the circle masks generated by cellpose and \n",
    "    calculates the central position and area of the mask. If the mask \n",
    "    overlaps with a mask that has already been saved, the area of the \n",
    "    two spots are compared, with the larger of the spots saved into the \n",
    "    dataframe. In addition, the mask sotre variabale is updated to only include \n",
    "    those masks that are included in the analysis dataframe. '''\n",
    "\n",
    "    # Initalise\n",
    "    props = {'label', 'Centroid', 'area'}\n",
    "    circle_dataframe = pd.DataFrame()\n",
    "    # Copy the masks variable to preserve the original. \n",
    "    analysis_masks = np.array(circle_masks, dtype = int)\n",
    "\n",
    "    for j in range( circle_masks.shape[0] ):\n",
    "        # get the region-props tabel for the image. \n",
    "        circ_props = pd.DataFrame( skimage.measure.regionprops_table(circle_masks[j, ...], properties = props) )\n",
    "        circ_props['Frame'] = j\n",
    "        # Get the headers for the dataframe. \n",
    "        heads = circ_props.columns.values\n",
    "\n",
    "        # If the storage dataframe is empty. \n",
    "        if len(circle_dataframe) == 0: \n",
    "            # Add first values to the dataframe. \n",
    "            circle_dataframe = pd.concat([circle_dataframe, circ_props])\n",
    "        # If there are values in the dataframe. \n",
    "        else: \n",
    "            for i in range(circ_props.shape[0]):\n",
    "                # Find the circles that overlap with one another though different z frames. \n",
    "                similar_circle_x = np.where(( circle_dataframe['Centroid-0'] <= circ_props['Centroid-0'].iloc[i] + 5) & \n",
    "                                           ( circle_dataframe['Centroid-0'] >= circ_props['Centroid-0'].iloc[i] - 5 ) &\n",
    "                                           ( circle_dataframe['Centroid-1'] <= circ_props['Centroid-1'].iloc[i] + 5 ) & \n",
    "                                           ( circle_dataframe['Centroid-1'] >= circ_props['Centroid-1'].iloc[i] - 5 ))[0] \n",
    "\n",
    "                # Create a dictionary for the new values.                \n",
    "                dictionary = {heads[0]: [circ_props[heads[0]].iloc[i]],\n",
    "                              heads[1]: [circ_props[heads[1]].iloc[i]],\n",
    "                              heads[2]: [circ_props[heads[2]].iloc[i]],\n",
    "                              heads[3]: [circ_props[heads[3]].iloc[i]],\n",
    "                              heads[4]: [circ_props[heads[4]].iloc[i]]}\n",
    "\n",
    "                # If there is no overlap. \n",
    "                if len(similar_circle_x) == 0:\n",
    "                    # Add values to dataframe. \n",
    "                    circle_dataframe = pd.concat([circle_dataframe, pd.DataFrame(dictionary)], ignore_index = True, axis = 0)\n",
    "\n",
    "                # If there is overlap. \n",
    "                else: \n",
    "                    # If the area of the new circle is larger than the previous. \n",
    "                    if circ_props['area'].iloc[i] > circle_dataframe['area'].iloc[similar_circle_x[0]]:\n",
    "                        # Replace values in the dataframe. \n",
    "                        frame = circle_dataframe['Frame'].iloc[similar_circle_x[0]]\n",
    "                        mask_id = circle_dataframe['label'].iloc[similar_circle_x[0]]\n",
    "                        # Update the dataframe. \n",
    "                        circle_dataframe.iloc[similar_circle_x[0]] = pd.DataFrame(dictionary)\n",
    "                        # Update the masks to only include the ones used for \n",
    "                        # analysis. \n",
    "                        analysis_masks[frame, ...][analysis_masks[frame, ...] == mask_id] = 0\n",
    "\n",
    "                    else: \n",
    "                        # Replace values in the dataframe. \n",
    "                        frame = circle_dataframe['Frame'].iloc[similar_circle_x[0]]\n",
    "                        mask_id = circle_dataframe['label'].iloc[similar_circle_x[0]]\n",
    "                        # Update the masks to only include the ones used for \n",
    "                        # analysis. \n",
    "                        analysis_masks[frame, ...][analysis_masks[frame, ...] == mask_id] = 0\n",
    "\n",
    "    return(circle_dataframe, analysis_masks)"
   ]
  },
  {
   "cell_type": "markdown",
   "id": "4a56e805-a3dd-477f-a07f-2eb4730c5765",
   "metadata": {
    "tags": []
   },
   "source": [
    "-------\n",
    "### Get file name "
   ]
  },
  {
   "cell_type": "code",
   "execution_count": 8,
   "id": "83d53386-0c0d-4e59-aa07-ba3078151be4",
   "metadata": {
    "tags": []
   },
   "outputs": [
    {
     "name": "stdout",
     "output_type": "stream",
     "text": [
      "N:/RCORBYN/User_Data/Current Projects/20240411_Abhi/Raw Images/Control_2min-int_t1.czi\n"
     ]
    }
   ],
   "source": [
    "# # # Creates dialogue to ask directory\n",
    "# # # Get the folder containing the image stack. \n",
    "root = tk.Tk()\n",
    "root.attributes('-topmost', True)\n",
    "root.withdraw() # Stops a second window opening\n",
    "stack_file_name = filedialog.askopenfilename(title = 'Select Stack file')\n",
    "\n",
    "print(stack_file_name)"
   ]
  },
  {
   "cell_type": "markdown",
   "id": "fb3d650b-e085-493f-88d8-bd320fde6117",
   "metadata": {
    "tags": []
   },
   "source": [
    "-----\n",
    "### Read image \n",
    "\n",
    "**The image shape:**  \n",
    "3 = Image channel  \n",
    "16 = Time points.   \n",
    "8 = Z planes   \n",
    "1024 = x/y  \n",
    "1024 = y/x  "
   ]
  },
  {
   "cell_type": "code",
   "execution_count": 9,
   "id": "87bb7487-7592-438f-8105-5676e12cba63",
   "metadata": {
    "tags": []
   },
   "outputs": [
    {
     "name": "stdout",
     "output_type": "stream",
     "text": [
      "(16, 8, 1024, 1024)\n",
      "(16, 8, 1024, 1024)\n"
     ]
    }
   ],
   "source": [
    "# Extract a single file name. \n",
    "image_data = czi.imread(stack_file_name)[0, 0, 0, 0, 0, 0, ..., 0]\n",
    "\n",
    "yel_im = image_data[0, ...]\n",
    "magneta_im = image_data[1, ...]\n",
    "\n",
    "print(yel_im.shape)\n",
    "print(magneta_im.shape)"
   ]
  },
  {
   "cell_type": "code",
   "execution_count": 156,
   "id": "ac23e953-518d-4aa9-a0f6-87713e2356dc",
   "metadata": {
    "tags": []
   },
   "outputs": [
    {
     "name": "stdout",
     "output_type": "stream",
     "text": [
      "0\n",
      "1\n",
      "2\n",
      "3\n",
      "done\n"
     ]
    },
    {
     "data": {
      "text/plain": [
       "<Labels layer 'Labels [1]' at 0x2003d0644f0>"
      ]
     },
     "execution_count": 156,
     "metadata": {},
     "output_type": "execute_result"
    }
   ],
   "source": [
    "interesting_frames = Get_Frames(yel_im, 0)\n",
    "cell_mask_im = []\n",
    "circ_im_yel = []\n",
    "circ_im_mag = []\n",
    "\n",
    "for i in range( len(interesting_frames) ): \n",
    "    print(i)\n",
    "    single_frame_yel = yel_im[2, interesting_frames[i], ...]\n",
    "    single_frame_magenta = magneta_im[2, interesting_frames[i], ...]\n",
    "    \n",
    "    # Generate cell masks for frame i\n",
    "    cell_masks = segment_the_cells_cellpose(single_frame_yel)\n",
    "    # Size filter masks \n",
    "    filtered_cells = filter_cell_labels(cell_masks)\n",
    "    # Add cell masks to an image\n",
    "    cell_mask_im.append(filtered_cells)\n",
    "    # Segment the circles using cellpose. \n",
    "    circ_mask_yel = segment_the_circles_cellpose(single_frame_yel, filtered_cells)\n",
    "    # Append to a storage variable. \n",
    "    circ_im_yel.append(circ_mask_yel)\n",
    "    \n",
    "    # Segment the circles using cellpose. \n",
    "    circ_mask_mag = segment_the_circles_cellpose(single_frame_yel, filtered_cells)\n",
    "    # Append to a storage variable. \n",
    "    circ_im_mag.append(circ_mask_mag)\n",
    "    \n",
    "circ_im_yel = np.array(circ_im_yel, dtype = int) \n",
    "circ_im_mag = np.array(circ_im_mag, dtype = int)\n",
    "\n",
    "yel_circ_properties, filtered_yel_masks = analyse_masks_and_shape(circ_im_yel)\n",
    "mag_circ_properties, filtered_mag_masks = analyse_masks_and_shape(circ_im_mag)\n",
    "\n",
    "\n",
    "print('done')\n",
    "\n",
    "viewer1 = napari.Viewer()\n",
    "viewer1.add_image(yel_im[2, interesting_frames, ...])\n",
    "viewer1.add_labels(np.array(filtered_yel_masks, dtype = int))\n",
    "\n",
    "\n",
    "viewer2 = napari.Viewer()\n",
    "viewer2.add_image(magneta_im[2, interesting_frames, ...])\n",
    "viewer2.add_labels(np.array(cell_mask_im, dtype = int))\n",
    "viewer2.add_labels(np.array(filtered_mag_masks, dtype = int))"
   ]
  },
  {
   "cell_type": "code",
   "execution_count": 142,
   "id": "e512ed93-581d-47c7-a66b-e2e49686e3d5",
   "metadata": {},
   "outputs": [
    {
     "data": {
      "text/plain": [
       "<Labels layer 'Labels' at 0x2001523d4c0>"
      ]
     },
     "execution_count": 142,
     "metadata": {},
     "output_type": "execute_result"
    }
   ],
   "source": [
    "viewer = napari.Viewer()\n",
    "viewer.add_image(yel_im[2, interesting_frames, ...])\n",
    "# viewer.add_image(magneta_im[0, interesting_frames, ...])\n",
    "viewer.add_labels(np.array(analysis_masks, dtype = int))"
   ]
  },
  {
   "cell_type": "code",
   "execution_count": 140,
   "id": "83fe0040-57dd-49cb-8ab6-8f05914efcf8",
   "metadata": {},
   "outputs": [],
   "source": [
    "# circle_dataframe = circle_dataframe.sort_values(['Frame'])\n",
    "\n",
    "circle_dataframe.to_csv('C:/Users/rcorbyn/Desktop/test.csv')"
   ]
  },
  {
   "cell_type": "code",
   "execution_count": null,
   "id": "677f9c6e-c829-4cdc-bbad-28e653cd30ce",
   "metadata": {
    "tags": []
   },
   "outputs": [],
   "source": [
    "viewer = napari.Viewer()\n",
    "\n",
    "viewer.add_image(square_im)\n",
    "viewer.add_labels(cell_masks)"
   ]
  },
  {
   "cell_type": "code",
   "execution_count": null,
   "id": "4a86468f-dd7a-48b4-9f9a-59aaaf62c89a",
   "metadata": {},
   "outputs": [],
   "source": []
  }
 ],
 "metadata": {
  "kernelspec": {
   "display_name": "Python 3 (ipykernel)",
   "language": "python",
   "name": "python3"
  },
  "language_info": {
   "codemirror_mode": {
    "name": "ipython",
    "version": 3
   },
   "file_extension": ".py",
   "mimetype": "text/x-python",
   "name": "python",
   "nbconvert_exporter": "python",
   "pygments_lexer": "ipython3",
   "version": "3.8.13"
  }
 },
 "nbformat": 4,
 "nbformat_minor": 5
}
